{
  "nbformat": 4,
  "nbformat_minor": 0,
  "metadata": {
    "colab": {
      "name": "pyhton28ABRIL21.ipynb",
      "provenance": [],
      "collapsed_sections": [
        "LuFBkBA25oSY"
      ],
      "include_colab_link": true
    },
    "kernelspec": {
      "name": "python3",
      "display_name": "Python 3"
    },
    "language_info": {
      "name": "python"
    }
  },
  "cells": [
    {
      "cell_type": "markdown",
      "metadata": {
        "id": "view-in-github",
        "colab_type": "text"
      },
      "source": [
        "<a href=\"https://colab.research.google.com/github/Camolas/Overleaf/blob/main/pyhton28ABRIL21.ipynb\" target=\"_parent\"><img src=\"https://colab.research.google.com/assets/colab-badge.svg\" alt=\"Open In Colab\"/></a>"
      ]
    },
    {
      "cell_type": "code",
      "metadata": {
        "id": "5L0YOHGFAeAk"
      },
      "source": [
        ""
      ],
      "execution_count": null,
      "outputs": []
    },
    {
      "cell_type": "markdown",
      "metadata": {
        "id": "eVXfSdVarycz"
      },
      "source": [
        "Boa tarde! Vamos começar a demonstração!"
      ]
    },
    {
      "cell_type": "markdown",
      "metadata": {
        "id": "vQSbi2wAst_c"
      },
      "source": [
        "# teste"
      ]
    },
    {
      "cell_type": "code",
      "metadata": {
        "id": "9SVuAx6iszvr"
      },
      "source": [
        "n = 1"
      ],
      "execution_count": null,
      "outputs": []
    },
    {
      "cell_type": "markdown",
      "metadata": {
        "id": "I2P7hECzsyRU"
      },
      "source": [
        "adas"
      ]
    },
    {
      "cell_type": "markdown",
      "metadata": {
        "id": "vWFivU8ksjYh"
      },
      "source": [
        "# Introdução"
      ]
    },
    {
      "cell_type": "code",
      "metadata": {
        "colab": {
          "base_uri": "https://localhost:8080/"
        },
        "id": "xwD4c1N5r2mN",
        "outputId": "18876acf-e8bb-44b6-b3b7-59700f06b26d"
      },
      "source": [
        "nome = 12\n",
        "type(nome)"
      ],
      "execution_count": null,
      "outputs": [
        {
          "output_type": "execute_result",
          "data": {
            "text/plain": [
              "int"
            ]
          },
          "metadata": {
            "tags": []
          },
          "execution_count": 3
        }
      ]
    },
    {
      "cell_type": "code",
      "metadata": {
        "colab": {
          "base_uri": "https://localhost:8080/"
        },
        "id": "VcfK3fBEtVSB",
        "outputId": "d6ba2375-f3f2-45f8-e38b-b10024b488cf"
      },
      "source": [
        "a = 5\n",
        "b = 2\n",
        "c = a/b\n",
        "print(c, end=\" \")\n",
        "d = a ** 3\n",
        "print(d)\n",
        "print(\"d:\",d, \"c:\",c)"
      ],
      "execution_count": null,
      "outputs": [
        {
          "output_type": "stream",
          "text": [
            "2.5 125\n",
            "d: 125 c: 2.5\n"
          ],
          "name": "stdout"
        }
      ]
    },
    {
      "cell_type": "code",
      "metadata": {
        "id": "3UXj9RJHu8Md"
      },
      "source": [
        "import math as batata"
      ],
      "execution_count": null,
      "outputs": []
    },
    {
      "cell_type": "code",
      "metadata": {
        "colab": {
          "base_uri": "https://localhost:8080/"
        },
        "id": "BxcvLF5Wu_j4",
        "outputId": "b58168b6-c4c4-4a7a-b983-62a4fd3b4adc"
      },
      "source": [
        "print(max(1,2,3))\n",
        "print (batata.sqrt(9))\n",
        "print (batata.factorial(9))"
      ],
      "execution_count": null,
      "outputs": [
        {
          "output_type": "stream",
          "text": [
            "3\n",
            "3.0\n",
            "362880\n"
          ],
          "name": "stdout"
        }
      ]
    },
    {
      "cell_type": "markdown",
      "metadata": {
        "id": "GOhKUj6dvn_h"
      },
      "source": [
        "Instruções  condicionais"
      ]
    },
    {
      "cell_type": "code",
      "metadata": {
        "colab": {
          "base_uri": "https://localhost:8080/"
        },
        "id": "h9hH1XInvs0w",
        "outputId": "5e9c4aaa-1f34-452c-8da6-8130e5585579"
      },
      "source": [
        "idade = 17\n",
        "if idade >= 18:\n",
        "  print('Pode votar')\n",
        "else:\n",
        "  print ('Ainda não pode votar')"
      ],
      "execution_count": null,
      "outputs": [
        {
          "output_type": "stream",
          "text": [
            "Ainda não pode votar\n"
          ],
          "name": "stdout"
        }
      ]
    },
    {
      "cell_type": "code",
      "metadata": {
        "colab": {
          "base_uri": "https://localhost:8080/"
        },
        "id": "rUGcRQ1ov6Fj",
        "outputId": "ae721c8f-3020-4a93-ab94-46dc1299ebba"
      },
      "source": [
        "idade = 17\n",
        "if idade >= 18:\n",
        "  print('Pode votar')\n",
        "elif idade == 17:\n",
        "  print('Falta pouco para votar')\n",
        "else:\n",
        "  print ('Ainda não pode votar')"
      ],
      "execution_count": null,
      "outputs": [
        {
          "output_type": "stream",
          "text": [
            "Falta pouco para votar\n"
          ],
          "name": "stdout"
        }
      ]
    },
    {
      "cell_type": "markdown",
      "metadata": {
        "id": "2H-Y67UWyS13"
      },
      "source": [
        "Loops"
      ]
    },
    {
      "cell_type": "code",
      "metadata": {
        "colab": {
          "base_uri": "https://localhost:8080/"
        },
        "id": "nl3a1PBZydka",
        "outputId": "1f6951c5-8e7d-4b2c-e186-272dcd4075c4"
      },
      "source": [
        "i = 0\n",
        "while i < 5:\n",
        "  print(i, end=\" \")\n",
        "  i += 2"
      ],
      "execution_count": null,
      "outputs": [
        {
          "output_type": "stream",
          "text": [
            "0 2 4 "
          ],
          "name": "stdout"
        }
      ]
    },
    {
      "cell_type": "code",
      "metadata": {
        "colab": {
          "base_uri": "https://localhost:8080/"
        },
        "id": "YQ_zitfgyxpD",
        "outputId": "9a6a2fb9-a8f8-4951-cfac-c09c3ce83f39"
      },
      "source": [
        "for i in range(6):\n",
        "  print(\"i, i ao quadrado\")\n",
        "  print(i, end= \", \")\n",
        "  print(i**2)"
      ],
      "execution_count": null,
      "outputs": [
        {
          "output_type": "stream",
          "text": [
            "i, i ao quadrado\n",
            "0, 0\n",
            "i, i ao quadrado\n",
            "1, 1\n",
            "i, i ao quadrado\n",
            "2, 4\n",
            "i, i ao quadrado\n",
            "3, 9\n",
            "i, i ao quadrado\n",
            "4, 16\n",
            "i, i ao quadrado\n",
            "5, 25\n"
          ],
          "name": "stdout"
        }
      ]
    },
    {
      "cell_type": "code",
      "metadata": {
        "colab": {
          "base_uri": "https://localhost:8080/"
        },
        "id": "-n9Sz7xO1NMw",
        "outputId": "15f98aa3-0865-4585-da9e-b480c1d90539"
      },
      "source": [
        "vogais= 'aeiou'\n",
        "for c in vogais:\n",
        "  print(c, ord(c))"
      ],
      "execution_count": null,
      "outputs": [
        {
          "output_type": "stream",
          "text": [
            "a 97\n",
            "e 101\n",
            "i 105\n",
            "o 111\n",
            "u 117\n"
          ],
          "name": "stdout"
        }
      ]
    },
    {
      "cell_type": "markdown",
      "metadata": {
        "id": "UHx8GFUh1i4U"
      },
      "source": [
        "Funções"
      ]
    },
    {
      "cell_type": "code",
      "metadata": {
        "colab": {
          "base_uri": "https://localhost:8080/"
        },
        "id": "u24Ji9Oh1jvm",
        "outputId": "0cd8d2a8-4bdd-4342-ccf4-5d0a608aa4ff"
      },
      "source": [
        "def add (a,b):\n",
        "  return a+b\n",
        "\n",
        "print(add(1,2))"
      ],
      "execution_count": null,
      "outputs": [
        {
          "output_type": "stream",
          "text": [
            "3\n"
          ],
          "name": "stdout"
        }
      ]
    },
    {
      "cell_type": "code",
      "metadata": {
        "colab": {
          "base_uri": "https://localhost:8080/"
        },
        "id": "-5jag-Ov1s10",
        "outputId": "7b55dd2b-4dca-4d2b-ef64-b54ac690e553"
      },
      "source": [
        "def dobros (a,b):\n",
        "  return 2*a, 2*b\n",
        "\n",
        "x,y = dobros(1,2)\n",
        "print(x)\n",
        "print(y)"
      ],
      "execution_count": null,
      "outputs": [
        {
          "output_type": "stream",
          "text": [
            "2\n",
            "4\n"
          ],
          "name": "stdout"
        }
      ]
    },
    {
      "cell_type": "markdown",
      "metadata": {
        "id": "tw-GKYzp2DoE"
      },
      "source": [
        "Listas"
      ]
    },
    {
      "cell_type": "code",
      "metadata": {
        "colab": {
          "base_uri": "https://localhost:8080/"
        },
        "id": "XIYVefFS2Enc",
        "outputId": "0943f155-0902-4c68-f990-7557d4dc0226"
      },
      "source": [
        "nome1 = \"Catarina\"\n",
        "nome2 = \"Ana\"\n",
        "contacto = 989898989\n",
        "\n",
        "listaNomes = [nome1, nome2, contacto]\n",
        "print(listaNomes)"
      ],
      "execution_count": null,
      "outputs": [
        {
          "output_type": "stream",
          "text": [
            "['Catarina', 'Ana', 989898989]\n"
          ],
          "name": "stdout"
        }
      ]
    },
    {
      "cell_type": "code",
      "metadata": {
        "colab": {
          "base_uri": "https://localhost:8080/"
        },
        "id": "sAHldFlS2fcK",
        "outputId": "c4144faf-ec5e-4ff2-f630-e1d923041711"
      },
      "source": [
        "listaNomes[0] = 9696969969\n",
        "print(listaNomes)"
      ],
      "execution_count": null,
      "outputs": [
        {
          "output_type": "stream",
          "text": [
            "[9696969969, 'Ana', 989898989]\n"
          ],
          "name": "stdout"
        }
      ]
    },
    {
      "cell_type": "code",
      "metadata": {
        "colab": {
          "base_uri": "https://localhost:8080/"
        },
        "id": "3ed4FOt02ndV",
        "outputId": "bc3357cc-caec-4591-b5ca-9ce39e385d67"
      },
      "source": [
        "copiaLista = listaNomes #cópia mal feita (é só um alias)\n",
        "print(copiaLista)\n",
        "\n",
        "copiaLista [0]= \"Joana\"\n",
        "print(listaNomes)\n",
        "print(copiaLista)"
      ],
      "execution_count": null,
      "outputs": [
        {
          "output_type": "stream",
          "text": [
            "[9696969969, 'Ana', 989898989]\n",
            "['Joana', 'Ana', 989898989]\n",
            "['Joana', 'Ana', 989898989]\n"
          ],
          "name": "stdout"
        }
      ]
    },
    {
      "cell_type": "code",
      "metadata": {
        "colab": {
          "base_uri": "https://localhost:8080/"
        },
        "id": "49LMBC3p3AyT",
        "outputId": "af61abf2-74e7-4c93-c278-a90f6e5802f3"
      },
      "source": [
        "copiaVerdadeira = list(listaNomes)\n",
        "print(listaNomes)\n",
        "print(copiaLista)\n",
        "\n",
        "copiaVerdadeira[2] = 919191919\n",
        "print(listaNomes)\n",
        "print(copiaLista)"
      ],
      "execution_count": null,
      "outputs": [
        {
          "output_type": "stream",
          "text": [
            "['Joana', 'Ana', 989898989]\n",
            "['Joana', 'Ana', 989898989]\n",
            "['Joana', 'Ana', 989898989]\n",
            "['Joana', 'Ana', 989898989]\n"
          ],
          "name": "stdout"
        }
      ]
    },
    {
      "cell_type": "code",
      "metadata": {
        "colab": {
          "base_uri": "https://localhost:8080/"
        },
        "id": "5Gazumrf3UUF",
        "outputId": "3c2c9a6c-5530-4398-ca64-57b6cdb519ad"
      },
      "source": [
        "print(copiaVerdadeira)\n",
        "print(id(listaNomes))\n",
        "print(id(copiaLista))\n",
        "print(id(copiaVerdadeira))"
      ],
      "execution_count": null,
      "outputs": [
        {
          "output_type": "stream",
          "text": [
            "['Joana', 'Ana', 919191919]\n",
            "139749342538320\n",
            "139749342538320\n",
            "139749343442496\n"
          ],
          "name": "stdout"
        }
      ]
    },
    {
      "cell_type": "code",
      "metadata": {
        "colab": {
          "base_uri": "https://localhost:8080/"
        },
        "id": "ObDTekBK3sk3",
        "outputId": "ef714598-6897-42d1-a6db-8b0dea419fde"
      },
      "source": [
        "listaDeListas = [listaNomes, copiaVerdadeira, \"teste\"]\n",
        "print(listaDeListas)\n",
        "print(listaDeListas[1][2])"
      ],
      "execution_count": null,
      "outputs": [
        {
          "output_type": "stream",
          "text": [
            "[['Joana', 'Ana', 989898989], ['Joana', 'Ana', 919191919], 'teste']\n",
            "919191919\n"
          ],
          "name": "stdout"
        }
      ]
    },
    {
      "cell_type": "code",
      "metadata": {
        "colab": {
          "base_uri": "https://localhost:8080/"
        },
        "id": "7FM4GgNi4MkG",
        "outputId": "6aed4ffa-cdb6-414e-de32-d79fea9c393a"
      },
      "source": [
        "listasJuntas = listaNomes + copiaVerdadeira\n",
        "print(listasJuntas)\n",
        "print(len(listasJuntas))"
      ],
      "execution_count": null,
      "outputs": [
        {
          "output_type": "stream",
          "text": [
            "['Joana', 'Ana', 989898989, 'Joana', 'Ana', 919191919]\n",
            "6\n"
          ],
          "name": "stdout"
        }
      ]
    },
    {
      "cell_type": "markdown",
      "metadata": {
        "id": "7Hxr9CgC4ve0"
      },
      "source": [
        "Dicionários"
      ]
    },
    {
      "cell_type": "code",
      "metadata": {
        "colab": {
          "base_uri": "https://localhost:8080/"
        },
        "id": "1ktaF0ww4u_E",
        "outputId": "94c2bdfd-06b4-4bb4-f828-65d0e868c8d2"
      },
      "source": [
        "dicio = {}\n",
        "type(dicio)\n",
        "dicio [\"nome\"] = \"catarina\"\n",
        "dicio [\"contacto\"] = 919191910\n",
        "print(dicio)\n",
        "print(dicio[\"contacto\"])\n",
        "print(dicio.keys())"
      ],
      "execution_count": null,
      "outputs": [
        {
          "output_type": "stream",
          "text": [
            "{'nome': 'catarina', 'contacto': 919191910}\n",
            "919191910\n",
            "dict_keys(['nome', 'contacto'])\n"
          ],
          "name": "stdout"
        }
      ]
    },
    {
      "cell_type": "markdown",
      "metadata": {
        "id": "LuFBkBA25oSY"
      },
      "source": [
        "# Machine Learning"
      ]
    },
    {
      "cell_type": "markdown",
      "metadata": {
        "id": "HTxJgLdH5vl9"
      },
      "source": [
        "MNIST"
      ]
    },
    {
      "cell_type": "code",
      "metadata": {
        "id": "aUEVEu3p5y9N"
      },
      "source": [
        "import pandas as pd\n",
        "import numpy as np"
      ],
      "execution_count": null,
      "outputs": []
    },
    {
      "cell_type": "code",
      "metadata": {
        "colab": {
          "base_uri": "https://localhost:8080/"
        },
        "id": "iftJfoo46CYh",
        "outputId": "119c57c9-2584-4432-f65c-248d0f88db98"
      },
      "source": [
        "ls"
      ],
      "execution_count": null,
      "outputs": [
        {
          "output_type": "stream",
          "text": [
            "\u001b[0m\u001b[01;34msample_data\u001b[0m/\n"
          ],
          "name": "stdout"
        }
      ]
    },
    {
      "cell_type": "code",
      "metadata": {
        "id": "Ogd59Pli57bx"
      },
      "source": [
        "DF = pd.read_csv(\"sample_data/mnist_train_small.csv\")"
      ],
      "execution_count": null,
      "outputs": []
    },
    {
      "cell_type": "code",
      "metadata": {
        "colab": {
          "base_uri": "https://localhost:8080/"
        },
        "id": "7H5_Igeq6P3u",
        "outputId": "8654cd73-33de-4f9c-fde1-fca7dc215ba4"
      },
      "source": [
        "type(DF)"
      ],
      "execution_count": null,
      "outputs": [
        {
          "output_type": "execute_result",
          "data": {
            "text/plain": [
              "pandas.core.frame.DataFrame"
            ]
          },
          "metadata": {
            "tags": []
          },
          "execution_count": 65
        }
      ]
    },
    {
      "cell_type": "code",
      "metadata": {
        "colab": {
          "base_uri": "https://localhost:8080/",
          "height": 346
        },
        "id": "TLU13mti6SjW",
        "outputId": "00678b72-c5e2-410d-d690-03a587e6c6b7"
      },
      "source": [
        "DF.describe()"
      ],
      "execution_count": null,
      "outputs": [
        {
          "output_type": "execute_result",
          "data": {
            "text/html": [
              "<div>\n",
              "<style scoped>\n",
              "    .dataframe tbody tr th:only-of-type {\n",
              "        vertical-align: middle;\n",
              "    }\n",
              "\n",
              "    .dataframe tbody tr th {\n",
              "        vertical-align: top;\n",
              "    }\n",
              "\n",
              "    .dataframe thead th {\n",
              "        text-align: right;\n",
              "    }\n",
              "</style>\n",
              "<table border=\"1\" class=\"dataframe\">\n",
              "  <thead>\n",
              "    <tr style=\"text-align: right;\">\n",
              "      <th></th>\n",
              "      <th>6</th>\n",
              "      <th>0</th>\n",
              "      <th>0.1</th>\n",
              "      <th>0.2</th>\n",
              "      <th>0.3</th>\n",
              "      <th>0.4</th>\n",
              "      <th>0.5</th>\n",
              "      <th>0.6</th>\n",
              "      <th>0.7</th>\n",
              "      <th>0.8</th>\n",
              "      <th>0.9</th>\n",
              "      <th>0.10</th>\n",
              "      <th>0.11</th>\n",
              "      <th>0.12</th>\n",
              "      <th>0.13</th>\n",
              "      <th>0.14</th>\n",
              "      <th>0.15</th>\n",
              "      <th>0.16</th>\n",
              "      <th>0.17</th>\n",
              "      <th>0.18</th>\n",
              "      <th>0.19</th>\n",
              "      <th>0.20</th>\n",
              "      <th>0.21</th>\n",
              "      <th>0.22</th>\n",
              "      <th>0.23</th>\n",
              "      <th>0.24</th>\n",
              "      <th>0.25</th>\n",
              "      <th>0.26</th>\n",
              "      <th>0.27</th>\n",
              "      <th>0.28</th>\n",
              "      <th>0.29</th>\n",
              "      <th>0.30</th>\n",
              "      <th>0.31</th>\n",
              "      <th>0.32</th>\n",
              "      <th>0.33</th>\n",
              "      <th>0.34</th>\n",
              "      <th>0.35</th>\n",
              "      <th>0.36</th>\n",
              "      <th>0.37</th>\n",
              "      <th>0.38</th>\n",
              "      <th>...</th>\n",
              "      <th>0.551</th>\n",
              "      <th>0.552</th>\n",
              "      <th>0.553</th>\n",
              "      <th>0.554</th>\n",
              "      <th>0.555</th>\n",
              "      <th>0.556</th>\n",
              "      <th>0.557</th>\n",
              "      <th>0.558</th>\n",
              "      <th>0.559</th>\n",
              "      <th>0.560</th>\n",
              "      <th>0.561</th>\n",
              "      <th>0.562</th>\n",
              "      <th>0.563</th>\n",
              "      <th>0.564</th>\n",
              "      <th>0.565</th>\n",
              "      <th>0.566</th>\n",
              "      <th>0.567</th>\n",
              "      <th>0.568</th>\n",
              "      <th>0.569</th>\n",
              "      <th>0.570</th>\n",
              "      <th>0.571</th>\n",
              "      <th>0.572</th>\n",
              "      <th>0.573</th>\n",
              "      <th>0.574</th>\n",
              "      <th>0.575</th>\n",
              "      <th>0.576</th>\n",
              "      <th>0.577</th>\n",
              "      <th>0.578</th>\n",
              "      <th>0.579</th>\n",
              "      <th>0.580</th>\n",
              "      <th>0.581</th>\n",
              "      <th>0.582</th>\n",
              "      <th>0.583</th>\n",
              "      <th>0.584</th>\n",
              "      <th>0.585</th>\n",
              "      <th>0.586</th>\n",
              "      <th>0.587</th>\n",
              "      <th>0.588</th>\n",
              "      <th>0.589</th>\n",
              "      <th>0.590</th>\n",
              "    </tr>\n",
              "  </thead>\n",
              "  <tbody>\n",
              "    <tr>\n",
              "      <th>count</th>\n",
              "      <td>19999.000000</td>\n",
              "      <td>19999.0</td>\n",
              "      <td>19999.0</td>\n",
              "      <td>19999.0</td>\n",
              "      <td>19999.0</td>\n",
              "      <td>19999.0</td>\n",
              "      <td>19999.0</td>\n",
              "      <td>19999.0</td>\n",
              "      <td>19999.0</td>\n",
              "      <td>19999.0</td>\n",
              "      <td>19999.0</td>\n",
              "      <td>19999.0</td>\n",
              "      <td>19999.0</td>\n",
              "      <td>19999.000000</td>\n",
              "      <td>19999.000000</td>\n",
              "      <td>19999.000000</td>\n",
              "      <td>19999.000000</td>\n",
              "      <td>19999.0</td>\n",
              "      <td>19999.0</td>\n",
              "      <td>19999.0</td>\n",
              "      <td>19999.0</td>\n",
              "      <td>19999.0</td>\n",
              "      <td>19999.0</td>\n",
              "      <td>19999.0</td>\n",
              "      <td>19999.0</td>\n",
              "      <td>19999.0</td>\n",
              "      <td>19999.0</td>\n",
              "      <td>19999.0</td>\n",
              "      <td>19999.0</td>\n",
              "      <td>19999.0</td>\n",
              "      <td>19999.0</td>\n",
              "      <td>19999.0</td>\n",
              "      <td>19999.0</td>\n",
              "      <td>19999.0</td>\n",
              "      <td>19999.0</td>\n",
              "      <td>19999.000000</td>\n",
              "      <td>19999.000000</td>\n",
              "      <td>19999.000000</td>\n",
              "      <td>19999.000000</td>\n",
              "      <td>19999.000000</td>\n",
              "      <td>...</td>\n",
              "      <td>19999.000000</td>\n",
              "      <td>19999.000000</td>\n",
              "      <td>19999.000000</td>\n",
              "      <td>19999.000000</td>\n",
              "      <td>19999.000000</td>\n",
              "      <td>19999.000000</td>\n",
              "      <td>19999.000000</td>\n",
              "      <td>19999.000000</td>\n",
              "      <td>19999.000000</td>\n",
              "      <td>19999.0</td>\n",
              "      <td>19999.0</td>\n",
              "      <td>19999.0</td>\n",
              "      <td>19999.0</td>\n",
              "      <td>19999.0</td>\n",
              "      <td>19999.0</td>\n",
              "      <td>19999.0</td>\n",
              "      <td>19999.000000</td>\n",
              "      <td>19999.000000</td>\n",
              "      <td>19999.000000</td>\n",
              "      <td>19999.000000</td>\n",
              "      <td>19999.000000</td>\n",
              "      <td>19999.000000</td>\n",
              "      <td>19999.000000</td>\n",
              "      <td>19999.000000</td>\n",
              "      <td>19999.000000</td>\n",
              "      <td>19999.000000</td>\n",
              "      <td>19999.000000</td>\n",
              "      <td>19999.000000</td>\n",
              "      <td>19999.000000</td>\n",
              "      <td>19999.000000</td>\n",
              "      <td>19999.000000</td>\n",
              "      <td>19999.000000</td>\n",
              "      <td>19999.000000</td>\n",
              "      <td>19999.000000</td>\n",
              "      <td>19999.000000</td>\n",
              "      <td>19999.000000</td>\n",
              "      <td>19999.0</td>\n",
              "      <td>19999.0</td>\n",
              "      <td>19999.0</td>\n",
              "      <td>19999.0</td>\n",
              "    </tr>\n",
              "    <tr>\n",
              "      <th>mean</th>\n",
              "      <td>4.470124</td>\n",
              "      <td>0.0</td>\n",
              "      <td>0.0</td>\n",
              "      <td>0.0</td>\n",
              "      <td>0.0</td>\n",
              "      <td>0.0</td>\n",
              "      <td>0.0</td>\n",
              "      <td>0.0</td>\n",
              "      <td>0.0</td>\n",
              "      <td>0.0</td>\n",
              "      <td>0.0</td>\n",
              "      <td>0.0</td>\n",
              "      <td>0.0</td>\n",
              "      <td>0.000500</td>\n",
              "      <td>0.010801</td>\n",
              "      <td>0.010801</td>\n",
              "      <td>0.000450</td>\n",
              "      <td>0.0</td>\n",
              "      <td>0.0</td>\n",
              "      <td>0.0</td>\n",
              "      <td>0.0</td>\n",
              "      <td>0.0</td>\n",
              "      <td>0.0</td>\n",
              "      <td>0.0</td>\n",
              "      <td>0.0</td>\n",
              "      <td>0.0</td>\n",
              "      <td>0.0</td>\n",
              "      <td>0.0</td>\n",
              "      <td>0.0</td>\n",
              "      <td>0.0</td>\n",
              "      <td>0.0</td>\n",
              "      <td>0.0</td>\n",
              "      <td>0.0</td>\n",
              "      <td>0.0</td>\n",
              "      <td>0.0</td>\n",
              "      <td>0.012401</td>\n",
              "      <td>0.028451</td>\n",
              "      <td>0.058303</td>\n",
              "      <td>0.065503</td>\n",
              "      <td>0.127556</td>\n",
              "      <td>...</td>\n",
              "      <td>3.714036</td>\n",
              "      <td>2.627231</td>\n",
              "      <td>1.718486</td>\n",
              "      <td>1.020101</td>\n",
              "      <td>0.553228</td>\n",
              "      <td>0.247412</td>\n",
              "      <td>0.097755</td>\n",
              "      <td>0.020751</td>\n",
              "      <td>0.001400</td>\n",
              "      <td>0.0</td>\n",
              "      <td>0.0</td>\n",
              "      <td>0.0</td>\n",
              "      <td>0.0</td>\n",
              "      <td>0.0</td>\n",
              "      <td>0.0</td>\n",
              "      <td>0.0</td>\n",
              "      <td>0.000350</td>\n",
              "      <td>0.010651</td>\n",
              "      <td>0.036052</td>\n",
              "      <td>0.088304</td>\n",
              "      <td>0.112306</td>\n",
              "      <td>0.158508</td>\n",
              "      <td>0.276914</td>\n",
              "      <td>0.406070</td>\n",
              "      <td>0.546827</td>\n",
              "      <td>0.572079</td>\n",
              "      <td>0.696235</td>\n",
              "      <td>0.671684</td>\n",
              "      <td>0.545927</td>\n",
              "      <td>0.366318</td>\n",
              "      <td>0.215011</td>\n",
              "      <td>0.087704</td>\n",
              "      <td>0.036502</td>\n",
              "      <td>0.013651</td>\n",
              "      <td>0.032602</td>\n",
              "      <td>0.006000</td>\n",
              "      <td>0.0</td>\n",
              "      <td>0.0</td>\n",
              "      <td>0.0</td>\n",
              "      <td>0.0</td>\n",
              "    </tr>\n",
              "    <tr>\n",
              "      <th>std</th>\n",
              "      <td>2.892807</td>\n",
              "      <td>0.0</td>\n",
              "      <td>0.0</td>\n",
              "      <td>0.0</td>\n",
              "      <td>0.0</td>\n",
              "      <td>0.0</td>\n",
              "      <td>0.0</td>\n",
              "      <td>0.0</td>\n",
              "      <td>0.0</td>\n",
              "      <td>0.0</td>\n",
              "      <td>0.0</td>\n",
              "      <td>0.0</td>\n",
              "      <td>0.0</td>\n",
              "      <td>0.070712</td>\n",
              "      <td>1.527389</td>\n",
              "      <td>1.527389</td>\n",
              "      <td>0.063641</td>\n",
              "      <td>0.0</td>\n",
              "      <td>0.0</td>\n",
              "      <td>0.0</td>\n",
              "      <td>0.0</td>\n",
              "      <td>0.0</td>\n",
              "      <td>0.0</td>\n",
              "      <td>0.0</td>\n",
              "      <td>0.0</td>\n",
              "      <td>0.0</td>\n",
              "      <td>0.0</td>\n",
              "      <td>0.0</td>\n",
              "      <td>0.0</td>\n",
              "      <td>0.0</td>\n",
              "      <td>0.0</td>\n",
              "      <td>0.0</td>\n",
              "      <td>0.0</td>\n",
              "      <td>0.0</td>\n",
              "      <td>0.0</td>\n",
              "      <td>1.233369</td>\n",
              "      <td>1.986589</td>\n",
              "      <td>3.473328</td>\n",
              "      <td>3.100786</td>\n",
              "      <td>5.003077</td>\n",
              "      <td>...</td>\n",
              "      <td>26.815104</td>\n",
              "      <td>22.334578</td>\n",
              "      <td>18.262801</td>\n",
              "      <td>14.000786</td>\n",
              "      <td>10.463422</td>\n",
              "      <td>6.750766</td>\n",
              "      <td>4.079112</td>\n",
              "      <td>1.322117</td>\n",
              "      <td>0.197995</td>\n",
              "      <td>0.0</td>\n",
              "      <td>0.0</td>\n",
              "      <td>0.0</td>\n",
              "      <td>0.0</td>\n",
              "      <td>0.0</td>\n",
              "      <td>0.0</td>\n",
              "      <td>0.0</td>\n",
              "      <td>0.049499</td>\n",
              "      <td>1.095106</td>\n",
              "      <td>2.220820</td>\n",
              "      <td>3.900144</td>\n",
              "      <td>4.749952</td>\n",
              "      <td>5.406774</td>\n",
              "      <td>7.005300</td>\n",
              "      <td>8.719149</td>\n",
              "      <td>10.379141</td>\n",
              "      <td>10.254843</td>\n",
              "      <td>11.457391</td>\n",
              "      <td>11.297264</td>\n",
              "      <td>10.057330</td>\n",
              "      <td>8.255546</td>\n",
              "      <td>6.314821</td>\n",
              "      <td>3.921664</td>\n",
              "      <td>2.712527</td>\n",
              "      <td>0.950818</td>\n",
              "      <td>2.718102</td>\n",
              "      <td>0.600333</td>\n",
              "      <td>0.0</td>\n",
              "      <td>0.0</td>\n",
              "      <td>0.0</td>\n",
              "      <td>0.0</td>\n",
              "    </tr>\n",
              "    <tr>\n",
              "      <th>min</th>\n",
              "      <td>0.000000</td>\n",
              "      <td>0.0</td>\n",
              "      <td>0.0</td>\n",
              "      <td>0.0</td>\n",
              "      <td>0.0</td>\n",
              "      <td>0.0</td>\n",
              "      <td>0.0</td>\n",
              "      <td>0.0</td>\n",
              "      <td>0.0</td>\n",
              "      <td>0.0</td>\n",
              "      <td>0.0</td>\n",
              "      <td>0.0</td>\n",
              "      <td>0.0</td>\n",
              "      <td>0.000000</td>\n",
              "      <td>0.000000</td>\n",
              "      <td>0.000000</td>\n",
              "      <td>0.000000</td>\n",
              "      <td>0.0</td>\n",
              "      <td>0.0</td>\n",
              "      <td>0.0</td>\n",
              "      <td>0.0</td>\n",
              "      <td>0.0</td>\n",
              "      <td>0.0</td>\n",
              "      <td>0.0</td>\n",
              "      <td>0.0</td>\n",
              "      <td>0.0</td>\n",
              "      <td>0.0</td>\n",
              "      <td>0.0</td>\n",
              "      <td>0.0</td>\n",
              "      <td>0.0</td>\n",
              "      <td>0.0</td>\n",
              "      <td>0.0</td>\n",
              "      <td>0.0</td>\n",
              "      <td>0.0</td>\n",
              "      <td>0.0</td>\n",
              "      <td>0.000000</td>\n",
              "      <td>0.000000</td>\n",
              "      <td>0.000000</td>\n",
              "      <td>0.000000</td>\n",
              "      <td>0.000000</td>\n",
              "      <td>...</td>\n",
              "      <td>0.000000</td>\n",
              "      <td>0.000000</td>\n",
              "      <td>0.000000</td>\n",
              "      <td>0.000000</td>\n",
              "      <td>0.000000</td>\n",
              "      <td>0.000000</td>\n",
              "      <td>0.000000</td>\n",
              "      <td>0.000000</td>\n",
              "      <td>0.000000</td>\n",
              "      <td>0.0</td>\n",
              "      <td>0.0</td>\n",
              "      <td>0.0</td>\n",
              "      <td>0.0</td>\n",
              "      <td>0.0</td>\n",
              "      <td>0.0</td>\n",
              "      <td>0.0</td>\n",
              "      <td>0.000000</td>\n",
              "      <td>0.000000</td>\n",
              "      <td>0.000000</td>\n",
              "      <td>0.000000</td>\n",
              "      <td>0.000000</td>\n",
              "      <td>0.000000</td>\n",
              "      <td>0.000000</td>\n",
              "      <td>0.000000</td>\n",
              "      <td>0.000000</td>\n",
              "      <td>0.000000</td>\n",
              "      <td>0.000000</td>\n",
              "      <td>0.000000</td>\n",
              "      <td>0.000000</td>\n",
              "      <td>0.000000</td>\n",
              "      <td>0.000000</td>\n",
              "      <td>0.000000</td>\n",
              "      <td>0.000000</td>\n",
              "      <td>0.000000</td>\n",
              "      <td>0.000000</td>\n",
              "      <td>0.000000</td>\n",
              "      <td>0.0</td>\n",
              "      <td>0.0</td>\n",
              "      <td>0.0</td>\n",
              "      <td>0.0</td>\n",
              "    </tr>\n",
              "    <tr>\n",
              "      <th>25%</th>\n",
              "      <td>2.000000</td>\n",
              "      <td>0.0</td>\n",
              "      <td>0.0</td>\n",
              "      <td>0.0</td>\n",
              "      <td>0.0</td>\n",
              "      <td>0.0</td>\n",
              "      <td>0.0</td>\n",
              "      <td>0.0</td>\n",
              "      <td>0.0</td>\n",
              "      <td>0.0</td>\n",
              "      <td>0.0</td>\n",
              "      <td>0.0</td>\n",
              "      <td>0.0</td>\n",
              "      <td>0.000000</td>\n",
              "      <td>0.000000</td>\n",
              "      <td>0.000000</td>\n",
              "      <td>0.000000</td>\n",
              "      <td>0.0</td>\n",
              "      <td>0.0</td>\n",
              "      <td>0.0</td>\n",
              "      <td>0.0</td>\n",
              "      <td>0.0</td>\n",
              "      <td>0.0</td>\n",
              "      <td>0.0</td>\n",
              "      <td>0.0</td>\n",
              "      <td>0.0</td>\n",
              "      <td>0.0</td>\n",
              "      <td>0.0</td>\n",
              "      <td>0.0</td>\n",
              "      <td>0.0</td>\n",
              "      <td>0.0</td>\n",
              "      <td>0.0</td>\n",
              "      <td>0.0</td>\n",
              "      <td>0.0</td>\n",
              "      <td>0.0</td>\n",
              "      <td>0.000000</td>\n",
              "      <td>0.000000</td>\n",
              "      <td>0.000000</td>\n",
              "      <td>0.000000</td>\n",
              "      <td>0.000000</td>\n",
              "      <td>...</td>\n",
              "      <td>0.000000</td>\n",
              "      <td>0.000000</td>\n",
              "      <td>0.000000</td>\n",
              "      <td>0.000000</td>\n",
              "      <td>0.000000</td>\n",
              "      <td>0.000000</td>\n",
              "      <td>0.000000</td>\n",
              "      <td>0.000000</td>\n",
              "      <td>0.000000</td>\n",
              "      <td>0.0</td>\n",
              "      <td>0.0</td>\n",
              "      <td>0.0</td>\n",
              "      <td>0.0</td>\n",
              "      <td>0.0</td>\n",
              "      <td>0.0</td>\n",
              "      <td>0.0</td>\n",
              "      <td>0.000000</td>\n",
              "      <td>0.000000</td>\n",
              "      <td>0.000000</td>\n",
              "      <td>0.000000</td>\n",
              "      <td>0.000000</td>\n",
              "      <td>0.000000</td>\n",
              "      <td>0.000000</td>\n",
              "      <td>0.000000</td>\n",
              "      <td>0.000000</td>\n",
              "      <td>0.000000</td>\n",
              "      <td>0.000000</td>\n",
              "      <td>0.000000</td>\n",
              "      <td>0.000000</td>\n",
              "      <td>0.000000</td>\n",
              "      <td>0.000000</td>\n",
              "      <td>0.000000</td>\n",
              "      <td>0.000000</td>\n",
              "      <td>0.000000</td>\n",
              "      <td>0.000000</td>\n",
              "      <td>0.000000</td>\n",
              "      <td>0.0</td>\n",
              "      <td>0.0</td>\n",
              "      <td>0.0</td>\n",
              "      <td>0.0</td>\n",
              "    </tr>\n",
              "    <tr>\n",
              "      <th>50%</th>\n",
              "      <td>4.000000</td>\n",
              "      <td>0.0</td>\n",
              "      <td>0.0</td>\n",
              "      <td>0.0</td>\n",
              "      <td>0.0</td>\n",
              "      <td>0.0</td>\n",
              "      <td>0.0</td>\n",
              "      <td>0.0</td>\n",
              "      <td>0.0</td>\n",
              "      <td>0.0</td>\n",
              "      <td>0.0</td>\n",
              "      <td>0.0</td>\n",
              "      <td>0.0</td>\n",
              "      <td>0.000000</td>\n",
              "      <td>0.000000</td>\n",
              "      <td>0.000000</td>\n",
              "      <td>0.000000</td>\n",
              "      <td>0.0</td>\n",
              "      <td>0.0</td>\n",
              "      <td>0.0</td>\n",
              "      <td>0.0</td>\n",
              "      <td>0.0</td>\n",
              "      <td>0.0</td>\n",
              "      <td>0.0</td>\n",
              "      <td>0.0</td>\n",
              "      <td>0.0</td>\n",
              "      <td>0.0</td>\n",
              "      <td>0.0</td>\n",
              "      <td>0.0</td>\n",
              "      <td>0.0</td>\n",
              "      <td>0.0</td>\n",
              "      <td>0.0</td>\n",
              "      <td>0.0</td>\n",
              "      <td>0.0</td>\n",
              "      <td>0.0</td>\n",
              "      <td>0.000000</td>\n",
              "      <td>0.000000</td>\n",
              "      <td>0.000000</td>\n",
              "      <td>0.000000</td>\n",
              "      <td>0.000000</td>\n",
              "      <td>...</td>\n",
              "      <td>0.000000</td>\n",
              "      <td>0.000000</td>\n",
              "      <td>0.000000</td>\n",
              "      <td>0.000000</td>\n",
              "      <td>0.000000</td>\n",
              "      <td>0.000000</td>\n",
              "      <td>0.000000</td>\n",
              "      <td>0.000000</td>\n",
              "      <td>0.000000</td>\n",
              "      <td>0.0</td>\n",
              "      <td>0.0</td>\n",
              "      <td>0.0</td>\n",
              "      <td>0.0</td>\n",
              "      <td>0.0</td>\n",
              "      <td>0.0</td>\n",
              "      <td>0.0</td>\n",
              "      <td>0.000000</td>\n",
              "      <td>0.000000</td>\n",
              "      <td>0.000000</td>\n",
              "      <td>0.000000</td>\n",
              "      <td>0.000000</td>\n",
              "      <td>0.000000</td>\n",
              "      <td>0.000000</td>\n",
              "      <td>0.000000</td>\n",
              "      <td>0.000000</td>\n",
              "      <td>0.000000</td>\n",
              "      <td>0.000000</td>\n",
              "      <td>0.000000</td>\n",
              "      <td>0.000000</td>\n",
              "      <td>0.000000</td>\n",
              "      <td>0.000000</td>\n",
              "      <td>0.000000</td>\n",
              "      <td>0.000000</td>\n",
              "      <td>0.000000</td>\n",
              "      <td>0.000000</td>\n",
              "      <td>0.000000</td>\n",
              "      <td>0.0</td>\n",
              "      <td>0.0</td>\n",
              "      <td>0.0</td>\n",
              "      <td>0.0</td>\n",
              "    </tr>\n",
              "    <tr>\n",
              "      <th>75%</th>\n",
              "      <td>7.000000</td>\n",
              "      <td>0.0</td>\n",
              "      <td>0.0</td>\n",
              "      <td>0.0</td>\n",
              "      <td>0.0</td>\n",
              "      <td>0.0</td>\n",
              "      <td>0.0</td>\n",
              "      <td>0.0</td>\n",
              "      <td>0.0</td>\n",
              "      <td>0.0</td>\n",
              "      <td>0.0</td>\n",
              "      <td>0.0</td>\n",
              "      <td>0.0</td>\n",
              "      <td>0.000000</td>\n",
              "      <td>0.000000</td>\n",
              "      <td>0.000000</td>\n",
              "      <td>0.000000</td>\n",
              "      <td>0.0</td>\n",
              "      <td>0.0</td>\n",
              "      <td>0.0</td>\n",
              "      <td>0.0</td>\n",
              "      <td>0.0</td>\n",
              "      <td>0.0</td>\n",
              "      <td>0.0</td>\n",
              "      <td>0.0</td>\n",
              "      <td>0.0</td>\n",
              "      <td>0.0</td>\n",
              "      <td>0.0</td>\n",
              "      <td>0.0</td>\n",
              "      <td>0.0</td>\n",
              "      <td>0.0</td>\n",
              "      <td>0.0</td>\n",
              "      <td>0.0</td>\n",
              "      <td>0.0</td>\n",
              "      <td>0.0</td>\n",
              "      <td>0.000000</td>\n",
              "      <td>0.000000</td>\n",
              "      <td>0.000000</td>\n",
              "      <td>0.000000</td>\n",
              "      <td>0.000000</td>\n",
              "      <td>...</td>\n",
              "      <td>0.000000</td>\n",
              "      <td>0.000000</td>\n",
              "      <td>0.000000</td>\n",
              "      <td>0.000000</td>\n",
              "      <td>0.000000</td>\n",
              "      <td>0.000000</td>\n",
              "      <td>0.000000</td>\n",
              "      <td>0.000000</td>\n",
              "      <td>0.000000</td>\n",
              "      <td>0.0</td>\n",
              "      <td>0.0</td>\n",
              "      <td>0.0</td>\n",
              "      <td>0.0</td>\n",
              "      <td>0.0</td>\n",
              "      <td>0.0</td>\n",
              "      <td>0.0</td>\n",
              "      <td>0.000000</td>\n",
              "      <td>0.000000</td>\n",
              "      <td>0.000000</td>\n",
              "      <td>0.000000</td>\n",
              "      <td>0.000000</td>\n",
              "      <td>0.000000</td>\n",
              "      <td>0.000000</td>\n",
              "      <td>0.000000</td>\n",
              "      <td>0.000000</td>\n",
              "      <td>0.000000</td>\n",
              "      <td>0.000000</td>\n",
              "      <td>0.000000</td>\n",
              "      <td>0.000000</td>\n",
              "      <td>0.000000</td>\n",
              "      <td>0.000000</td>\n",
              "      <td>0.000000</td>\n",
              "      <td>0.000000</td>\n",
              "      <td>0.000000</td>\n",
              "      <td>0.000000</td>\n",
              "      <td>0.000000</td>\n",
              "      <td>0.0</td>\n",
              "      <td>0.0</td>\n",
              "      <td>0.0</td>\n",
              "      <td>0.0</td>\n",
              "    </tr>\n",
              "    <tr>\n",
              "      <th>max</th>\n",
              "      <td>9.000000</td>\n",
              "      <td>0.0</td>\n",
              "      <td>0.0</td>\n",
              "      <td>0.0</td>\n",
              "      <td>0.0</td>\n",
              "      <td>0.0</td>\n",
              "      <td>0.0</td>\n",
              "      <td>0.0</td>\n",
              "      <td>0.0</td>\n",
              "      <td>0.0</td>\n",
              "      <td>0.0</td>\n",
              "      <td>0.0</td>\n",
              "      <td>0.0</td>\n",
              "      <td>10.000000</td>\n",
              "      <td>216.000000</td>\n",
              "      <td>216.000000</td>\n",
              "      <td>9.000000</td>\n",
              "      <td>0.0</td>\n",
              "      <td>0.0</td>\n",
              "      <td>0.0</td>\n",
              "      <td>0.0</td>\n",
              "      <td>0.0</td>\n",
              "      <td>0.0</td>\n",
              "      <td>0.0</td>\n",
              "      <td>0.0</td>\n",
              "      <td>0.0</td>\n",
              "      <td>0.0</td>\n",
              "      <td>0.0</td>\n",
              "      <td>0.0</td>\n",
              "      <td>0.0</td>\n",
              "      <td>0.0</td>\n",
              "      <td>0.0</td>\n",
              "      <td>0.0</td>\n",
              "      <td>0.0</td>\n",
              "      <td>0.0</td>\n",
              "      <td>132.000000</td>\n",
              "      <td>212.000000</td>\n",
              "      <td>253.000000</td>\n",
              "      <td>230.000000</td>\n",
              "      <td>255.000000</td>\n",
              "      <td>...</td>\n",
              "      <td>255.000000</td>\n",
              "      <td>255.000000</td>\n",
              "      <td>255.000000</td>\n",
              "      <td>255.000000</td>\n",
              "      <td>255.000000</td>\n",
              "      <td>254.000000</td>\n",
              "      <td>255.000000</td>\n",
              "      <td>135.000000</td>\n",
              "      <td>28.000000</td>\n",
              "      <td>0.0</td>\n",
              "      <td>0.0</td>\n",
              "      <td>0.0</td>\n",
              "      <td>0.0</td>\n",
              "      <td>0.0</td>\n",
              "      <td>0.0</td>\n",
              "      <td>0.0</td>\n",
              "      <td>7.000000</td>\n",
              "      <td>132.000000</td>\n",
              "      <td>231.000000</td>\n",
              "      <td>253.000000</td>\n",
              "      <td>253.000000</td>\n",
              "      <td>253.000000</td>\n",
              "      <td>255.000000</td>\n",
              "      <td>255.000000</td>\n",
              "      <td>255.000000</td>\n",
              "      <td>255.000000</td>\n",
              "      <td>255.000000</td>\n",
              "      <td>255.000000</td>\n",
              "      <td>255.000000</td>\n",
              "      <td>255.000000</td>\n",
              "      <td>253.000000</td>\n",
              "      <td>254.000000</td>\n",
              "      <td>253.000000</td>\n",
              "      <td>79.000000</td>\n",
              "      <td>254.000000</td>\n",
              "      <td>62.000000</td>\n",
              "      <td>0.0</td>\n",
              "      <td>0.0</td>\n",
              "      <td>0.0</td>\n",
              "      <td>0.0</td>\n",
              "    </tr>\n",
              "  </tbody>\n",
              "</table>\n",
              "<p>8 rows × 785 columns</p>\n",
              "</div>"
            ],
            "text/plain": [
              "                  6        0      0.1  ...    0.588    0.589    0.590\n",
              "count  19999.000000  19999.0  19999.0  ...  19999.0  19999.0  19999.0\n",
              "mean       4.470124      0.0      0.0  ...      0.0      0.0      0.0\n",
              "std        2.892807      0.0      0.0  ...      0.0      0.0      0.0\n",
              "min        0.000000      0.0      0.0  ...      0.0      0.0      0.0\n",
              "25%        2.000000      0.0      0.0  ...      0.0      0.0      0.0\n",
              "50%        4.000000      0.0      0.0  ...      0.0      0.0      0.0\n",
              "75%        7.000000      0.0      0.0  ...      0.0      0.0      0.0\n",
              "max        9.000000      0.0      0.0  ...      0.0      0.0      0.0\n",
              "\n",
              "[8 rows x 785 columns]"
            ]
          },
          "metadata": {
            "tags": []
          },
          "execution_count": 66
        }
      ]
    },
    {
      "cell_type": "markdown",
      "metadata": {
        "id": "KjnkmK5A7nCL"
      },
      "source": [
        "CHILE Dataset"
      ]
    },
    {
      "cell_type": "code",
      "metadata": {
        "colab": {
          "base_uri": "https://localhost:8080/"
        },
        "id": "m6q1Kaxd7qdD",
        "outputId": "a35454f3-1f08-434d-e3d6-14674ebf5050"
      },
      "source": [
        "from google.colab import drive\n",
        "\n",
        "drive.mount('/content/drive')"
      ],
      "execution_count": null,
      "outputs": [
        {
          "output_type": "stream",
          "text": [
            "Mounted at /content/drive\n"
          ],
          "name": "stdout"
        }
      ]
    },
    {
      "cell_type": "code",
      "metadata": {
        "id": "lbyatS8q8JRu"
      },
      "source": [
        "chile_file = \"/content/drive/My Drive/ml/Chile.csv\"\n",
        "chileDF = pd.read_csv(chile_file)"
      ],
      "execution_count": null,
      "outputs": []
    },
    {
      "cell_type": "code",
      "metadata": {
        "colab": {
          "base_uri": "https://localhost:8080/",
          "height": 297
        },
        "id": "nMq8-i8y8eXy",
        "outputId": "f117c9d3-675e-4e30-d241-44151b4489d7"
      },
      "source": [
        "chileDF.describe()"
      ],
      "execution_count": null,
      "outputs": [
        {
          "output_type": "execute_result",
          "data": {
            "text/html": [
              "<div>\n",
              "<style scoped>\n",
              "    .dataframe tbody tr th:only-of-type {\n",
              "        vertical-align: middle;\n",
              "    }\n",
              "\n",
              "    .dataframe tbody tr th {\n",
              "        vertical-align: top;\n",
              "    }\n",
              "\n",
              "    .dataframe thead th {\n",
              "        text-align: right;\n",
              "    }\n",
              "</style>\n",
              "<table border=\"1\" class=\"dataframe\">\n",
              "  <thead>\n",
              "    <tr style=\"text-align: right;\">\n",
              "      <th></th>\n",
              "      <th>Unnamed: 0</th>\n",
              "      <th>population</th>\n",
              "      <th>age</th>\n",
              "      <th>income</th>\n",
              "      <th>statusquo</th>\n",
              "    </tr>\n",
              "  </thead>\n",
              "  <tbody>\n",
              "    <tr>\n",
              "      <th>count</th>\n",
              "      <td>2700.000000</td>\n",
              "      <td>2700.000000</td>\n",
              "      <td>2699.000000</td>\n",
              "      <td>2602.000000</td>\n",
              "      <td>2.683000e+03</td>\n",
              "    </tr>\n",
              "    <tr>\n",
              "      <th>mean</th>\n",
              "      <td>1350.500000</td>\n",
              "      <td>152222.222222</td>\n",
              "      <td>38.548722</td>\n",
              "      <td>33875.864719</td>\n",
              "      <td>-1.118151e-08</td>\n",
              "    </tr>\n",
              "    <tr>\n",
              "      <th>std</th>\n",
              "      <td>779.567188</td>\n",
              "      <td>102198.039602</td>\n",
              "      <td>14.756415</td>\n",
              "      <td>39502.867120</td>\n",
              "      <td>1.000186e+00</td>\n",
              "    </tr>\n",
              "    <tr>\n",
              "      <th>min</th>\n",
              "      <td>1.000000</td>\n",
              "      <td>3750.000000</td>\n",
              "      <td>18.000000</td>\n",
              "      <td>2500.000000</td>\n",
              "      <td>-1.803010e+00</td>\n",
              "    </tr>\n",
              "    <tr>\n",
              "      <th>25%</th>\n",
              "      <td>675.750000</td>\n",
              "      <td>25000.000000</td>\n",
              "      <td>26.000000</td>\n",
              "      <td>7500.000000</td>\n",
              "      <td>-1.002235e+00</td>\n",
              "    </tr>\n",
              "    <tr>\n",
              "      <th>50%</th>\n",
              "      <td>1350.500000</td>\n",
              "      <td>175000.000000</td>\n",
              "      <td>36.000000</td>\n",
              "      <td>15000.000000</td>\n",
              "      <td>-4.558000e-02</td>\n",
              "    </tr>\n",
              "    <tr>\n",
              "      <th>75%</th>\n",
              "      <td>2025.250000</td>\n",
              "      <td>250000.000000</td>\n",
              "      <td>49.000000</td>\n",
              "      <td>35000.000000</td>\n",
              "      <td>9.685750e-01</td>\n",
              "    </tr>\n",
              "    <tr>\n",
              "      <th>max</th>\n",
              "      <td>2700.000000</td>\n",
              "      <td>250000.000000</td>\n",
              "      <td>70.000000</td>\n",
              "      <td>200000.000000</td>\n",
              "      <td>2.048590e+00</td>\n",
              "    </tr>\n",
              "  </tbody>\n",
              "</table>\n",
              "</div>"
            ],
            "text/plain": [
              "        Unnamed: 0     population          age         income     statusquo\n",
              "count  2700.000000    2700.000000  2699.000000    2602.000000  2.683000e+03\n",
              "mean   1350.500000  152222.222222    38.548722   33875.864719 -1.118151e-08\n",
              "std     779.567188  102198.039602    14.756415   39502.867120  1.000186e+00\n",
              "min       1.000000    3750.000000    18.000000    2500.000000 -1.803010e+00\n",
              "25%     675.750000   25000.000000    26.000000    7500.000000 -1.002235e+00\n",
              "50%    1350.500000  175000.000000    36.000000   15000.000000 -4.558000e-02\n",
              "75%    2025.250000  250000.000000    49.000000   35000.000000  9.685750e-01\n",
              "max    2700.000000  250000.000000    70.000000  200000.000000  2.048590e+00"
            ]
          },
          "metadata": {
            "tags": []
          },
          "execution_count": 70
        }
      ]
    },
    {
      "cell_type": "code",
      "metadata": {
        "colab": {
          "base_uri": "https://localhost:8080/"
        },
        "id": "Le-8RBpE8wh6",
        "outputId": "d8a3d20c-833d-4690-dc6d-3a2cde2e53a6"
      },
      "source": [
        "chileDF['education'].value_counts()\n",
        "chileDF['vote'].value_counts()\n"
      ],
      "execution_count": null,
      "outputs": [
        {
          "output_type": "execute_result",
          "data": {
            "text/plain": [
              "N    889\n",
              "Y    868\n",
              "U    588\n",
              "A    187\n",
              "Name: vote, dtype: int64"
            ]
          },
          "metadata": {
            "tags": []
          },
          "execution_count": 74
        }
      ]
    },
    {
      "cell_type": "code",
      "metadata": {
        "colab": {
          "base_uri": "https://localhost:8080/",
          "height": 204
        },
        "id": "72A52vnr9VQ-",
        "outputId": "926a7bd7-246c-441d-beb2-fe3d49ee7594"
      },
      "source": [
        "chileDF.groupby(['vote']).mean()"
      ],
      "execution_count": null,
      "outputs": [
        {
          "output_type": "execute_result",
          "data": {
            "text/html": [
              "<div>\n",
              "<style scoped>\n",
              "    .dataframe tbody tr th:only-of-type {\n",
              "        vertical-align: middle;\n",
              "    }\n",
              "\n",
              "    .dataframe tbody tr th {\n",
              "        vertical-align: top;\n",
              "    }\n",
              "\n",
              "    .dataframe thead th {\n",
              "        text-align: right;\n",
              "    }\n",
              "</style>\n",
              "<table border=\"1\" class=\"dataframe\">\n",
              "  <thead>\n",
              "    <tr style=\"text-align: right;\">\n",
              "      <th></th>\n",
              "      <th>Unnamed: 0</th>\n",
              "      <th>population</th>\n",
              "      <th>age</th>\n",
              "      <th>income</th>\n",
              "      <th>statusquo</th>\n",
              "    </tr>\n",
              "    <tr>\n",
              "      <th>vote</th>\n",
              "      <th></th>\n",
              "      <th></th>\n",
              "      <th></th>\n",
              "      <th></th>\n",
              "      <th></th>\n",
              "    </tr>\n",
              "  </thead>\n",
              "  <tbody>\n",
              "    <tr>\n",
              "      <th>A</th>\n",
              "      <td>1254.550802</td>\n",
              "      <td>159558.823529</td>\n",
              "      <td>34.374332</td>\n",
              "      <td>33184.357542</td>\n",
              "      <td>-0.189719</td>\n",
              "    </tr>\n",
              "    <tr>\n",
              "      <th>N</th>\n",
              "      <td>1347.465692</td>\n",
              "      <td>169919.853768</td>\n",
              "      <td>35.798650</td>\n",
              "      <td>37031.070196</td>\n",
              "      <td>-0.911061</td>\n",
              "    </tr>\n",
              "    <tr>\n",
              "      <th>U</th>\n",
              "      <td>1415.671769</td>\n",
              "      <td>152057.823129</td>\n",
              "      <td>40.364566</td>\n",
              "      <td>25683.035714</td>\n",
              "      <td>0.036050</td>\n",
              "    </tr>\n",
              "    <tr>\n",
              "      <th>Y</th>\n",
              "      <td>1284.578341</td>\n",
              "      <td>131900.921659</td>\n",
              "      <td>40.370968</td>\n",
              "      <td>36495.243757</td>\n",
              "      <td>0.942231</td>\n",
              "    </tr>\n",
              "  </tbody>\n",
              "</table>\n",
              "</div>"
            ],
            "text/plain": [
              "       Unnamed: 0     population        age        income  statusquo\n",
              "vote                                                                \n",
              "A     1254.550802  159558.823529  34.374332  33184.357542  -0.189719\n",
              "N     1347.465692  169919.853768  35.798650  37031.070196  -0.911061\n",
              "U     1415.671769  152057.823129  40.364566  25683.035714   0.036050\n",
              "Y     1284.578341  131900.921659  40.370968  36495.243757   0.942231"
            ]
          },
          "metadata": {
            "tags": []
          },
          "execution_count": 75
        }
      ]
    },
    {
      "cell_type": "markdown",
      "metadata": {
        "id": "v0Lhuz-K-kOu"
      },
      "source": [
        "IRIS dataset"
      ]
    },
    {
      "cell_type": "code",
      "metadata": {
        "colab": {
          "base_uri": "https://localhost:8080/"
        },
        "id": "qWVIj6qV-n14",
        "outputId": "275785bf-b0fe-4394-81d2-7d943b7b3a5d"
      },
      "source": [
        "iris_file='/content/drive/My Drive/ml/iris.csv'\n",
        "DF3 = pd.read_csv(iris_file)\n",
        "\n",
        "#DF3.describe()\n",
        "\n",
        "DF3.groupby(['species']).mean()\n",
        "DF3\n",
        "\n",
        "\n",
        "data = DF3.iloc[:,:-1]\n",
        "data\n",
        "\n",
        "\n",
        "labels = DF3.iloc[:,-1]\n",
        "labels"
      ],
      "execution_count": null,
      "outputs": [
        {
          "output_type": "execute_result",
          "data": {
            "text/plain": [
              "0      1\n",
              "1      1\n",
              "2      1\n",
              "3      1\n",
              "4      1\n",
              "      ..\n",
              "145    3\n",
              "146    3\n",
              "147    3\n",
              "148    3\n",
              "149    3\n",
              "Name: species, Length: 150, dtype: int64"
            ]
          },
          "metadata": {
            "tags": []
          },
          "execution_count": 6
        }
      ]
    },
    {
      "cell_type": "code",
      "metadata": {
        "colab": {
          "base_uri": "https://localhost:8080/",
          "height": 173
        },
        "id": "tJQm4gZjBxjT",
        "outputId": "72fc5775-dff2-46dd-94c7-98188d2a44a2"
      },
      "source": [
        "DF3.groupby(['species']).mean()\n"
      ],
      "execution_count": null,
      "outputs": [
        {
          "output_type": "execute_result",
          "data": {
            "text/html": [
              "<div>\n",
              "<style scoped>\n",
              "    .dataframe tbody tr th:only-of-type {\n",
              "        vertical-align: middle;\n",
              "    }\n",
              "\n",
              "    .dataframe tbody tr th {\n",
              "        vertical-align: top;\n",
              "    }\n",
              "\n",
              "    .dataframe thead th {\n",
              "        text-align: right;\n",
              "    }\n",
              "</style>\n",
              "<table border=\"1\" class=\"dataframe\">\n",
              "  <thead>\n",
              "    <tr style=\"text-align: right;\">\n",
              "      <th></th>\n",
              "      <th>sepal_length</th>\n",
              "      <th>sepal_width</th>\n",
              "      <th>petal_length</th>\n",
              "      <th>petal_width</th>\n",
              "    </tr>\n",
              "    <tr>\n",
              "      <th>species</th>\n",
              "      <th></th>\n",
              "      <th></th>\n",
              "      <th></th>\n",
              "      <th></th>\n",
              "    </tr>\n",
              "  </thead>\n",
              "  <tbody>\n",
              "    <tr>\n",
              "      <th>1</th>\n",
              "      <td>5.006</td>\n",
              "      <td>3.418</td>\n",
              "      <td>1.464</td>\n",
              "      <td>0.244</td>\n",
              "    </tr>\n",
              "    <tr>\n",
              "      <th>2</th>\n",
              "      <td>5.936</td>\n",
              "      <td>2.770</td>\n",
              "      <td>4.260</td>\n",
              "      <td>1.326</td>\n",
              "    </tr>\n",
              "    <tr>\n",
              "      <th>3</th>\n",
              "      <td>6.588</td>\n",
              "      <td>2.974</td>\n",
              "      <td>5.552</td>\n",
              "      <td>2.026</td>\n",
              "    </tr>\n",
              "  </tbody>\n",
              "</table>\n",
              "</div>"
            ],
            "text/plain": [
              "         sepal_length  sepal_width  petal_length  petal_width\n",
              "species                                                      \n",
              "1               5.006        3.418         1.464        0.244\n",
              "2               5.936        2.770         4.260        1.326\n",
              "3               6.588        2.974         5.552        2.026"
            ]
          },
          "metadata": {
            "tags": []
          },
          "execution_count": 7
        }
      ]
    },
    {
      "cell_type": "code",
      "metadata": {
        "id": "af_SqzAM_Yp_"
      },
      "source": [
        "from sklearn.model_selection import train_test_split\n",
        "from sklearn.metrics import classification_report\n",
        "from sklearn.ensemble import RandomForestClassifier\n",
        "from sklearn.neighbors import KNeighborsClassifier"
      ],
      "execution_count": null,
      "outputs": []
    },
    {
      "cell_type": "code",
      "metadata": {
        "id": "jHY6ObhQALVb"
      },
      "source": [
        "X_train, X_test, y_train, y_test = train_test_split(data, labels, test_size=0.3)\n"
      ],
      "execution_count": null,
      "outputs": []
    },
    {
      "cell_type": "code",
      "metadata": {
        "colab": {
          "base_uri": "https://localhost:8080/"
        },
        "id": "E2vO970NAvaR",
        "outputId": "fb9cd2f5-c39b-496c-8999-e229a95d0459"
      },
      "source": [
        "classifier = RandomForestClassifier(n_estimators=100)\n",
        "\n",
        "classifier.fit(X_train,y_train)\n"
      ],
      "execution_count": null,
      "outputs": [
        {
          "output_type": "execute_result",
          "data": {
            "text/plain": [
              "RandomForestClassifier(bootstrap=True, ccp_alpha=0.0, class_weight=None,\n",
              "                       criterion='gini', max_depth=None, max_features='auto',\n",
              "                       max_leaf_nodes=None, max_samples=None,\n",
              "                       min_impurity_decrease=0.0, min_impurity_split=None,\n",
              "                       min_samples_leaf=1, min_samples_split=2,\n",
              "                       min_weight_fraction_leaf=0.0, n_estimators=100,\n",
              "                       n_jobs=None, oob_score=False, random_state=None,\n",
              "                       verbose=0, warm_start=False)"
            ]
          },
          "metadata": {
            "tags": []
          },
          "execution_count": 83
        }
      ]
    },
    {
      "cell_type": "code",
      "metadata": {
        "colab": {
          "base_uri": "https://localhost:8080/"
        },
        "id": "YaC-mGQ5BECJ",
        "outputId": "22282d07-629b-4a23-9958-1fa334c0a88e"
      },
      "source": [
        "y_pred = classifier.predict(X_test)\n",
        "y_pred\n"
      ],
      "execution_count": null,
      "outputs": [
        {
          "output_type": "execute_result",
          "data": {
            "text/plain": [
              "array([2, 1, 1, 3, 3, 1, 3, 1, 3, 3, 1, 1, 2, 2, 1, 2, 1, 1, 1, 3, 2, 1,\n",
              "       2, 2, 3, 1, 3, 1, 1, 3, 2, 1, 1, 3, 3, 1, 3, 2, 3, 3, 2, 2, 1, 1,\n",
              "       1])"
            ]
          },
          "metadata": {
            "tags": []
          },
          "execution_count": 84
        }
      ]
    },
    {
      "cell_type": "code",
      "metadata": {
        "colab": {
          "base_uri": "https://localhost:8080/"
        },
        "id": "DHVCt5ikBQm5",
        "outputId": "0edbd58e-e8e1-4e03-c093-743c31c484da"
      },
      "source": [
        "print(classification_report(y_test,y_pred))"
      ],
      "execution_count": null,
      "outputs": [
        {
          "output_type": "stream",
          "text": [
            "              precision    recall  f1-score   support\n",
            "\n",
            "           1       1.00      1.00      1.00        20\n",
            "           2       1.00      0.85      0.92        13\n",
            "           3       0.86      1.00      0.92        12\n",
            "\n",
            "    accuracy                           0.96        45\n",
            "   macro avg       0.95      0.95      0.95        45\n",
            "weighted avg       0.96      0.96      0.96        45\n",
            "\n"
          ],
          "name": "stdout"
        }
      ]
    },
    {
      "cell_type": "code",
      "metadata": {
        "colab": {
          "base_uri": "https://localhost:8080/"
        },
        "id": "HAp3uBwZV6S9",
        "outputId": "a7ba05b6-41ff-4c44-844a-2c843bab09f2"
      },
      "source": [
        "knn = KNeighborsClassifier(n_neighbors = 3)\n",
        "knn.fit(X_train,y_train)"
      ],
      "execution_count": null,
      "outputs": [
        {
          "output_type": "execute_result",
          "data": {
            "text/plain": [
              "KNeighborsClassifier(algorithm='auto', leaf_size=30, metric='minkowski',\n",
              "                     metric_params=None, n_jobs=None, n_neighbors=3, p=2,\n",
              "                     weights='uniform')"
            ]
          },
          "metadata": {
            "tags": []
          },
          "execution_count": 15
        }
      ]
    },
    {
      "cell_type": "code",
      "metadata": {
        "colab": {
          "base_uri": "https://localhost:8080/"
        },
        "id": "1GfYfvHxW1Yg",
        "outputId": "03a3659a-066f-4b72-eb51-e707aa6fc097"
      },
      "source": [
        "y_pred = knn.predict(X_test)\n",
        "y_pred"
      ],
      "execution_count": null,
      "outputs": [
        {
          "output_type": "execute_result",
          "data": {
            "text/plain": [
              "array([3, 1, 3, 1, 3, 2, 3, 2, 2, 1, 3, 1, 1, 3, 3, 1, 3, 3, 3, 2, 2, 2,\n",
              "       3, 2, 3, 3, 2, 3, 2, 2, 2, 1, 3, 1, 1, 1, 1, 3, 1, 1, 3, 1, 1, 1,\n",
              "       2])"
            ]
          },
          "metadata": {
            "tags": []
          },
          "execution_count": 17
        }
      ]
    },
    {
      "cell_type": "code",
      "metadata": {
        "id": "vHXr9PyXXmlA",
        "colab": {
          "base_uri": "https://localhost:8080/"
        },
        "outputId": "54ba4a7e-5c13-492c-d5f0-ce14cfdc210e"
      },
      "source": [
        "print(classification_report(y_test,y_pred))"
      ],
      "execution_count": null,
      "outputs": [
        {
          "output_type": "stream",
          "text": [
            "              precision    recall  f1-score   support\n",
            "\n",
            "           1       1.00      1.00      1.00        16\n",
            "           2       1.00      0.86      0.92        14\n",
            "           3       0.88      1.00      0.94        15\n",
            "\n",
            "    accuracy                           0.96        45\n",
            "   macro avg       0.96      0.95      0.95        45\n",
            "weighted avg       0.96      0.96      0.96        45\n",
            "\n"
          ],
          "name": "stdout"
        }
      ]
    }
  ]
}